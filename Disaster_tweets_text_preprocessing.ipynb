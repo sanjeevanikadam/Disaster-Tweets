{
  "nbformat": 4,
  "nbformat_minor": 0,
  "metadata": {
    "colab": {
      "provenance": []
    },
    "kernelspec": {
      "name": "python3",
      "display_name": "Python 3"
    },
    "language_info": {
      "name": "python"
    }
  },
  "cells": [
    {
      "cell_type": "code",
      "execution_count": null,
      "metadata": {
        "id": "PNXwAebADqQA"
      },
      "outputs": [],
      "source": [
        "# 1. Data Loading and Preprocessing\n",
        "df = pd.read_csv(r\"/content/train.csv\")\n",
        "\n",
        "# Handling missing values with imputation\n",
        "imputer = SimpleImputer(strategy='most_frequent')  # Replace with your preferred strategy\n",
        "df[['keyword', 'location']] = imputer.fit_transform(df[['keyword', 'location']])\n",
        "\n",
        "stop_words = set(stopwords.words('english'))\n",
        "lemmatizer = WordNetLemmatizer()\n",
        "\n",
        "def preprocess_text(text):\n",
        "    if isinstance(text, str):\n",
        "        text = re.sub(r'[^a-zA-Z\\s]', '', text)  # Remove non-alphanumeric characters\n",
        "        text = text.lower()\n",
        "        tokens = nltk.word_tokenize(text)\n",
        "        tokens = [lemmatizer.lemmatize(token) for token in tokens if token not in stop_words]  # Lemmatization\n",
        "        return tokens\n",
        "    else:\n",
        "        return []\n",
        "\n",
        "df['processed_text'] = df['text'].apply(preprocess_text)"
      ]
    }
  ]
}